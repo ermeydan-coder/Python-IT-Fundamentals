{
 "cells": [
  {
   "cell_type": "code",
   "execution_count": 1,
   "metadata": {},
   "outputs": [
    {
     "name": "stdout",
     "output_type": "stream",
     "text": [
      "Please enter a number: 12\n",
      "12 is not an Armstrong number\n"
     ]
    }
   ],
   "source": [
    "number = input(\"Please enter a number: \")\n",
    "sum = 0\n",
    "while not number.isdecimal():\n",
    "    print(\"It is an invalid entry. Don't use non-numeric, float, or negative values!\")\n",
    "    number = input(\"Please enter a number: \")\n",
    "if number.isdecimal():\n",
    "    for i in range(len(number)):\n",
    "         sum += int(number[i])**len(number)\n",
    "    if  sum == int(number):\n",
    "         print(\"{} is an Armstrong number\".format(int(number)))\n",
    "    else:\n",
    "        print(\"{} is not an Armstrong number\".format(int(number)))\n"
   ]
  },
  {
   "cell_type": "code",
   "execution_count": null,
   "metadata": {},
   "outputs": [],
   "source": []
  }
 ],
 "metadata": {
  "kernelspec": {
   "display_name": "Python 3",
   "language": "python",
   "name": "python3"
  },
  "language_info": {
   "codemirror_mode": {
    "name": "ipython",
    "version": 3
   },
   "file_extension": ".py",
   "mimetype": "text/x-python",
   "name": "python",
   "nbconvert_exporter": "python",
   "pygments_lexer": "ipython3",
   "version": "3.7.6"
  }
 },
 "nbformat": 4,
 "nbformat_minor": 4
}
